{
 "cells": [
  {
   "cell_type": "markdown",
   "metadata": {},
   "source": [
    "# Sentiment Diagnostics",
    "This notebook quantifies when and where sentiment information improves model performance."
   ]
  },
  {
   "cell_type": "code",
   "execution_count": null,
   "metadata": {},
   "outputs": [],
   "source": [
    "from pathlib import Path",
    "import pandas as pd",
    "import torch",
    "from torch.utils.data import DataLoader",
    "",
    "from dataset.MultiModalDataset import MultiModalDataset",
    "from model.CnnTaFusion import CnnTaFusion",
    "",
    "from sentiment_diagnostics import (headline_coverage, lagged_correlation, fusion_saliency, auc_difference, scatter_headline_vs_auc)"
   ]
  },
  {
   "cell_type": "code",
   "execution_count": null,
   "metadata": {},
   "outputs": [],
   "source": [
    "finance_csv = Path('path/to/finance.csv')",
    "sentiment_csv = Path('path/to/sentiment.csv')",
    "indicators = ['RSI', 'WIL', 'WMA', 'EMA', 'SMA', 'HMA', 'TMA', 'CCI', 'CMO', 'MCD', 'PPO', 'ROC', 'CMF', 'ADX', 'PSA']"
   ]
  },
  {
   "cell_type": "code",
   "execution_count": null,
   "metadata": {},
   "outputs": [],
   "source": [
    "coverage = headline_coverage(sentiment_csv, last_n=30)",
    "coverage"
   ]
  },
  {
   "cell_type": "code",
   "execution_count": null,
   "metadata": {},
   "outputs": [],
   "source": [
    "corr = lagged_correlation(sentiment_csv, finance_csv, max_lag=5)",
    "corr"
   ]
  },
  {
   "cell_type": "code",
   "execution_count": null,
   "metadata": {},
   "outputs": [],
   "source": [
    "ds = MultiModalDataset(finance_csv, sentiment_csv, indicators)",
    "loader = DataLoader(ds, batch_size=32, shuffle=False)",
    "device = torch.device('cuda' if torch.cuda.is_available() else 'cpu')",
    "model = CnnTaFusion(num_topics=ds.num_topics).to(device)",
    "",
    "saliency = fusion_saliency(model, loader, device)",
    "saliency"
   ]
  },
  {
   "cell_type": "code",
   "execution_count": null,
   "metadata": {},
   "outputs": [],
   "source": [
    "delta_auc = auc_difference(finance_csv, sentiment_csv, indicators)",
    "delta_auc"
   ]
  },
  {
   "cell_type": "code",
   "execution_count": null,
   "metadata": {},
   "outputs": [],
   "source": [
    "# Example scatter using headline counts vs. delta AUC for multiple tickers",
    "# pairs = [(cnt1, delta1), (cnt2, delta2), ...]",
    "# scatter_headline_vs_auc(pairs)"
   ]
  }
 ],
 "metadata": {
  "kernelspec": {
   "display_name": "Python 3",
   "language": "python",
   "name": "python3"
  },
  "language_info": {
   "name": "python",
   "pygments_lexer": "ipython3"
  }
 },
 "nbformat": 4,
 "nbformat_minor": 5
}